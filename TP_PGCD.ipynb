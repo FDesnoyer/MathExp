{
 "cells": [
  {
   "cell_type": "markdown",
   "metadata": {},
   "source": [
    "# Deux TP pour les Experts!"
   ]
  },
  {
   "cell_type": "markdown",
   "metadata": {},
   "source": [
    "### TP 1 : (TP2 p 146 du manuel)"
   ]
  },
  {
   "cell_type": "markdown",
   "metadata": {},
   "source": [
    "1. Vous testerez et modifierez le programme proposé ici mais  vous répondrez aux questions sur une feuille. (Les questions sont celles du manuel.)"
   ]
  },
  {
   "cell_type": "code",
   "execution_count": null,
   "metadata": {},
   "outputs": [],
   "source": [
    "alphabet = \"ABCDEFGHIJKLMNOPQRSTUVWXYZ\"\n",
    "def frequence(texte):\n",
    "    f=0\n",
    "    lettre_freq=''\n",
    "    L=[]\n",
    "    for lettre in alphabet:\n",
    "        L=[lettre for i in range(len(texte)) if texte[i]==lettre]\n",
    "        if len(L)>f:\n",
    "            f=len(L)\n",
    "            lettre_freq=lettre\n",
    "    return lettre_freq,f            "
   ]
  },
  {
   "cell_type": "code",
   "execution_count": null,
   "metadata": {},
   "outputs": [],
   "source": []
  },
  {
   "cell_type": "markdown",
   "metadata": {},
   "source": [
    "a. Expliquez la ligne 7 du programme.\n",
    "\n",
    "b. Modifier ce programme de sorte qu'il renvoie les deux lettres les plus fréquentes d'un texte ainsi que leur nombre d'apparition dans le texte."
   ]
  },
  {
   "cell_type": "markdown",
   "metadata": {},
   "source": [
    "La suite du TP est celle de votre livre."
   ]
  },
  {
   "cell_type": "markdown",
   "metadata": {},
   "source": [
    "### TP2 (TP3 p 147 du manuel)"
   ]
  },
  {
   "cell_type": "code",
   "execution_count": null,
   "metadata": {},
   "outputs": [],
   "source": [
    "def rang(mot):\n",
    "    L=[]\n",
    "    for lettre in mot:\n",
    "        L.append(ord(lettre)-65)\n",
    "    return L\n",
    "\n",
    "def codage(message):\n",
    "    clef=rang(\"ROUGE\")\n",
    "    texte=rang(message)\n",
    "    chiffre=\"\"\n",
    "    n=len(texte)//len(clef)+1\n",
    "    clef=n*clef\n",
    "    for i in range(0,len(texte)):\n",
    "        chiffre=chiffre+chr(...)\n",
    "    return chiffre"
   ]
  }
 ],
 "metadata": {
  "kernelspec": {
   "display_name": "Python 3",
   "language": "python",
   "name": "python3"
  },
  "language_info": {
   "codemirror_mode": {
    "name": "ipython",
    "version": 3
   },
   "file_extension": ".py",
   "mimetype": "text/x-python",
   "name": "python",
   "nbconvert_exporter": "python",
   "pygments_lexer": "ipython3",
   "version": "3.7.4"
  }
 },
 "nbformat": 4,
 "nbformat_minor": 2
}
